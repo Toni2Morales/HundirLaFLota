{
 "cells": [
  {
   "cell_type": "code",
   "execution_count": 1,
   "metadata": {},
   "outputs": [],
   "source": [
    "from clases import *\n",
    "import numpy as np\n",
    "import time\n",
    "from IPython.display import clear_output"
   ]
  },
  {
   "cell_type": "code",
   "execution_count": 4,
   "metadata": {},
   "outputs": [
    {
     "ename": "ValueError",
     "evalue": "invalid literal for int() with base 10: 'k'",
     "output_type": "error",
     "traceback": [
      "\u001b[1;31m---------------------------------------------------------------------------\u001b[0m",
      "\u001b[1;31mValueError\u001b[0m                                Traceback (most recent call last)",
      "\u001b[1;32m~\\AppData\\Local\\Temp\\ipykernel_27388\\2483496957.py\u001b[0m in \u001b[0;36m<module>\u001b[1;34m\u001b[0m\n\u001b[0;32m     55\u001b[0m                 \u001b[0macierto\u001b[0m\u001b[1;33m(\u001b[0m\u001b[1;33m(\u001b[0m\u001b[0mself\u001b[0m\u001b[1;33m)\u001b[0m\u001b[1;33m)\u001b[0m\u001b[1;33m\u001b[0m\u001b[1;33m\u001b[0m\u001b[0m\n\u001b[0;32m     56\u001b[0m \u001b[0mJugador1\u001b[0m \u001b[1;33m=\u001b[0m \u001b[0mjugador\u001b[0m\u001b[1;33m(\u001b[0m\u001b[1;34m\"Jugador1\"\u001b[0m\u001b[1;33m)\u001b[0m\u001b[1;33m\u001b[0m\u001b[1;33m\u001b[0m\u001b[0m\n\u001b[1;32m---> 57\u001b[1;33m \u001b[0mJugador1\u001b[0m\u001b[1;33m.\u001b[0m\u001b[0manadir_barcos\u001b[0m\u001b[1;33m(\u001b[0m\u001b[1;33m)\u001b[0m\u001b[1;33m\u001b[0m\u001b[1;33m\u001b[0m\u001b[0m\n\u001b[0m\u001b[0;32m     58\u001b[0m \u001b[1;32mwhile\u001b[0m \u001b[0mlen\u001b[0m\u001b[1;33m(\u001b[0m\u001b[0mJugador1\u001b[0m\u001b[1;33m.\u001b[0m\u001b[0mbarcos\u001b[0m\u001b[1;33m)\u001b[0m \u001b[1;33m!=\u001b[0m \u001b[1;36m10\u001b[0m\u001b[1;33m:\u001b[0m\u001b[1;33m\u001b[0m\u001b[1;33m\u001b[0m\u001b[0m\n\u001b[0;32m     59\u001b[0m     \u001b[0mprint\u001b[0m\u001b[1;33m(\u001b[0m\u001b[1;34m\"Introduce unas coordenadas correctas\"\u001b[0m\u001b[1;33m)\u001b[0m\u001b[1;33m\u001b[0m\u001b[1;33m\u001b[0m\u001b[0m\n",
      "\u001b[1;32mc:\\Users\\tonim\\Desktop\\hundirlaflota\\HundirLaFLota\\clases.py\u001b[0m in \u001b[0;36manadir_barcos\u001b[1;34m(self)\u001b[0m\n\u001b[0;32m     52\u001b[0m             \u001b[1;32mfor\u001b[0m \u001b[0mi\u001b[0m \u001b[1;32min\u001b[0m \u001b[0mrange\u001b[0m\u001b[1;33m(\u001b[0m\u001b[1;36m10\u001b[0m\u001b[1;33m)\u001b[0m\u001b[1;33m:\u001b[0m\u001b[1;33m\u001b[0m\u001b[1;33m\u001b[0m\u001b[0m\n\u001b[0;32m     53\u001b[0m                 \u001b[0mself\u001b[0m\u001b[1;33m.\u001b[0m\u001b[0mlista_eslora\u001b[0m \u001b[1;33m=\u001b[0m \u001b[1;33m[\u001b[0m\u001b[1;36m4\u001b[0m\u001b[1;33m,\u001b[0m\u001b[1;36m3\u001b[0m\u001b[1;33m,\u001b[0m\u001b[1;36m3\u001b[0m\u001b[1;33m,\u001b[0m\u001b[1;36m2\u001b[0m\u001b[1;33m,\u001b[0m\u001b[1;36m2\u001b[0m\u001b[1;33m,\u001b[0m\u001b[1;36m2\u001b[0m\u001b[1;33m,\u001b[0m\u001b[1;36m1\u001b[0m\u001b[1;33m,\u001b[0m\u001b[1;36m1\u001b[0m\u001b[1;33m,\u001b[0m\u001b[1;36m1\u001b[0m\u001b[1;33m,\u001b[0m\u001b[1;36m1\u001b[0m\u001b[1;33m]\u001b[0m\u001b[1;33m\u001b[0m\u001b[1;33m\u001b[0m\u001b[0m\n\u001b[1;32m---> 54\u001b[1;33m                 \u001b[0mself\u001b[0m\u001b[1;33m.\u001b[0m\u001b[0mbarcos\u001b[0m\u001b[1;33m.\u001b[0m\u001b[0mappend\u001b[0m\u001b[1;33m(\u001b[0m\u001b[0mbarco\u001b[0m\u001b[1;33m(\u001b[0m\u001b[0mself\u001b[0m\u001b[1;33m.\u001b[0m\u001b[0mlista_eslora\u001b[0m\u001b[1;33m[\u001b[0m\u001b[0mi\u001b[0m\u001b[1;33m]\u001b[0m\u001b[1;33m,\u001b[0m \u001b[1;33m[\u001b[0m\u001b[1;33m[\u001b[0m\u001b[0mint\u001b[0m\u001b[1;33m(\u001b[0m\u001b[0minput\u001b[0m\u001b[1;33m(\u001b[0m\u001b[1;34m\"Introduce la coordenada Y del barco\"\u001b[0m\u001b[1;33m)\u001b[0m\u001b[1;33m)\u001b[0m\u001b[1;33m,\u001b[0m\u001b[0mint\u001b[0m\u001b[1;33m(\u001b[0m\u001b[0minput\u001b[0m\u001b[1;33m(\u001b[0m\u001b[1;34m\"Introduce la coordenada X del barco\"\u001b[0m\u001b[1;33m)\u001b[0m\u001b[1;33m)\u001b[0m\u001b[1;33m]\u001b[0m\u001b[1;33m]\u001b[0m\u001b[1;33m,\u001b[0m \u001b[0minput\u001b[0m\u001b[1;33m(\u001b[0m\u001b[1;34m\"Introduce la orientación del barco\"\u001b[0m\u001b[1;33m)\u001b[0m\u001b[1;33m.\u001b[0m\u001b[0mupper\u001b[0m\u001b[1;33m(\u001b[0m\u001b[1;33m)\u001b[0m\u001b[1;33m,\u001b[0m \u001b[0mself\u001b[0m\u001b[1;33m)\u001b[0m\u001b[1;33m)\u001b[0m\u001b[1;33m\u001b[0m\u001b[1;33m\u001b[0m\u001b[0m\n\u001b[0m\u001b[0;32m     55\u001b[0m                 \u001b[1;32mif\u001b[0m \u001b[1;33m[\u001b[0m\u001b[1;34m\"No\"\u001b[0m\u001b[1;33m,\u001b[0m \u001b[1;34m\"No\"\u001b[0m\u001b[1;33m]\u001b[0m \u001b[1;32min\u001b[0m \u001b[1;33m(\u001b[0m\u001b[0mi\u001b[0m \u001b[1;32mfor\u001b[0m \u001b[0mx\u001b[0m \u001b[1;32min\u001b[0m \u001b[0mself\u001b[0m\u001b[1;33m.\u001b[0m\u001b[0mbarcos\u001b[0m \u001b[1;32mfor\u001b[0m \u001b[0mi\u001b[0m \u001b[1;32min\u001b[0m \u001b[0mx\u001b[0m\u001b[1;33m.\u001b[0m\u001b[0mposicion\u001b[0m\u001b[1;33m)\u001b[0m\u001b[1;33m:\u001b[0m\u001b[1;33m\u001b[0m\u001b[1;33m\u001b[0m\u001b[0m\n\u001b[0;32m     56\u001b[0m                     \u001b[0mself\u001b[0m\u001b[1;33m.\u001b[0m\u001b[0mbarcos\u001b[0m\u001b[1;33m.\u001b[0m\u001b[0mclear\u001b[0m\u001b[1;33m(\u001b[0m\u001b[1;33m)\u001b[0m\u001b[1;33m\u001b[0m\u001b[1;33m\u001b[0m\u001b[0m\n",
      "\u001b[1;31mValueError\u001b[0m: invalid literal for int() with base 10: 'k'"
     ]
    }
   ],
   "source": [
    "def atacar(self, y, x):\n",
    "    jug_atac = None\n",
    "    acierto = 0\n",
    "    if self.nombre == Jugador1.nombre:\n",
    "        jug_atac = Maquina\n",
    "    elif self.nombre == Maquina.nombre:\n",
    "        jug_atac = Jugador1\n",
    "    if jug_atac.tablero_prop.valor[y,x] == \"  \":\n",
    "        self.tablero_adver.valor[y,x] = \"\\U0001F4A6\"\n",
    "        if self.nombre == Jugador1.nombre:\n",
    "            print(\"¡Has atacado en [\", y, \",\" ,x, \"]!\")\n",
    "            print(\"¡Agua!\")\n",
    "        elif self.nombre == Maquina.nombre:\n",
    "            print(\"¡Te atacaron en [\", y, \",\" ,x, \"]!\")\n",
    "            print(\"¡Agua!\")\n",
    "    elif jug_atac.tablero_prop.valor[y,x] == \"O \":\n",
    "        jug_atac.tablero_prop.valor[y,x] = \"\\U0001F4A2\"\n",
    "        self.tablero_adver.valor[y,x] = \"\\U0001F4A2\"\n",
    "        acierto = 1\n",
    "        tocado_y_hundido = 0\n",
    "        for bar in jug_atac.barcos:\n",
    "            comparador = 0\n",
    "            for posicion in bar.posicion:\n",
    "                if jug_atac.tablero_prop.valor[tuple(posicion)] == \"\\U0001F4A2\":\n",
    "                        comparador += 1        \n",
    "                if comparador == bar.eslora:\n",
    "                    print(\"¡Tocado y Hundido!\")\n",
    "                    tocado_y_hundido = 1\n",
    "                    for posicion in bar.posicion:\n",
    "                        jug_atac.tablero_prop.valor[tuple(posicion)] = \"\\U0001F4A5\"\n",
    "                        self.tablero_adver.valor[tuple(posicion)] = \"\\U0001F4A5\"\n",
    "                        jug_atac.n_barcos -= 1\n",
    "        if tocado_y_hundido == 0:\n",
    "            if self.nombre == Jugador1.nombre:\n",
    "                        print(\"¡Has atacado en [\", y, \",\" ,x, \"]!\")\n",
    "                        print(\"!Tocado¡\")\n",
    "            elif self.nombre == Maquina.nombre:\n",
    "                        print(\"¡Te atacaron en [\", y, \",\" ,x, \"]!\")\n",
    "                        print(\"!Tocado¡\")\n",
    "    print(\"Tablero de Jugador2\")\n",
    "    Maquina.tablero_prop.mostrar()\n",
    "    print(\"Tu Tablero:\")\n",
    "    Jugador1.tablero_prop.mostrar()\n",
    "    print(\"Tus ataques:\")\n",
    "    Jugador1.tablero_adver.mostrar()\n",
    "    clear_output(wait=True)\n",
    "    return acierto\n",
    "def acierto(self):\n",
    "    if (Jugador1.n_barcos != 0) and (Maquina.n_barcos != 0):\n",
    "        if self.nombre == Jugador1.nombre:\n",
    "            if atacar(Jugador1,int(input(\"Introduce la coordenada Y para atacar\")),int(input(\"Introduce la coordenada X para atacar\"))) == 1:\n",
    "                acierto((self))\n",
    "        if self.nombre == Maquina.nombre:\n",
    "            if atacar(Maquina, np.random.randint(10), np.random.randint(10)) == 1:\n",
    "                acierto((self))\n",
    "Jugador1 = jugador(\"Jugador1\")\n",
    "Jugador1.anadir_barcos()\n",
    "while len(Jugador1.barcos) != 10:\n",
    "    print(\"Introduce unas coordenadas correctas\")\n",
    "    Jugador1.anadir_barcos()\n",
    "Maquina = jugador(\"Jugador2\")\n",
    "while len(Maquina.barcos) != 10:\n",
    "    Maquina.anadir_barcos()\n",
    "time.sleep(0.1)\n",
    "while (Jugador1.n_barcos != 0) and (Maquina.n_barcos != 0):\n",
    "    turnos = (1,2)\n",
    "    for i in turnos:\n",
    "        if i == 1:\n",
    "            if (Jugador1.n_barcos != 0) and (Maquina.n_barcos != 0):\n",
    "                time.sleep(4)\n",
    "                print(\"turno de Jugador1\")\n",
    "                print(\"Tablero de Jugador2\")\n",
    "                Maquina.tablero_prop.mostrar()\n",
    "                print(\"Tu Tablero:\")\n",
    "                Jugador1.tablero_prop.mostrar()\n",
    "                print(\"Tus ataques:\")\n",
    "                Jugador1.tablero_adver.mostrar()\n",
    "                clear_output(wait=True)\n",
    "                acierto(Jugador1)\n",
    "        elif i == 2:\n",
    "            if (Jugador1.n_barcos != 0) and (Maquina.n_barcos != 0):\n",
    "                time.sleep(5)\n",
    "                print(\"turno de Jugador 2\")\n",
    "                time.sleep(2)\n",
    "                acierto(Maquina)\n",
    "time.sleep(0.01)\n",
    "if Jugador1.n_barcos == 0:\n",
    "    print(\"\\U0001F38A\" + \"¡\" + Maquina.nombre + \" ha ganado!\" + \"\\U0001F38A\")\n",
    "    print(\"\\U0001F44E\" + \"¡\" + Jugador1.nombre + \" ha perdido!\" + \"\\U0001F44E\")\n",
    "elif Maquina.n_barcos == 0:\n",
    "    print(\"\\U0001F38A\" + \"¡\" + Jugador1.nombre + \" ha ganado!\" + \"\\U0001F38A\")\n",
    "    print(\"\\U0001F44E\" + \"¡\" + Maquina.nombre + \" ha perdido!\" + \"\\U0001F44E\")\n",
    "print(\"Tableros:\")\n",
    "print(\"Tablero de \" + Jugador1.nombre)\n",
    "Jugador1.tablero_prop.mostrar()\n",
    "print(\"Ataques de \" + Jugador1.nombre)\n",
    "Jugador1.tablero_adver.mostrar()\n",
    "print(\"Tablero de \" + Maquina.nombre)\n",
    "Maquina.tablero_prop.mostrar()\n",
    "print(\"Ataques de \" + Maquina.nombre)\n",
    "Maquina.tablero_adver.mostrar()"
   ]
  },
  {
   "cell_type": "code",
   "execution_count": 1,
   "metadata": {},
   "outputs": [],
   "source": [
    "def funcion():\n",
    "    if x > 10:\n",
    "        print(\"Hola\")\n",
    "\n",
    "\n"
   ]
  },
  {
   "cell_type": "code",
   "execution_count": 9,
   "metadata": {},
   "outputs": [],
   "source": [
    "import keyboard"
   ]
  },
  {
   "cell_type": "code",
   "execution_count": 226,
   "metadata": {},
   "outputs": [
    {
     "data": {
      "text/plain": [
       "[1, 2, 3, 4]"
      ]
     },
     "execution_count": 226,
     "metadata": {},
     "output_type": "execute_result"
    }
   ],
   "source": [
    "list(range(1,5))"
   ]
  },
  {
   "cell_type": "code",
   "execution_count": 224,
   "metadata": {},
   "outputs": [
    {
     "name": "stdout",
     "output_type": "stream",
     "text": [
      "1\n",
      "2\n",
      "3\n",
      "4\n",
      "5\n"
     ]
    }
   ],
   "source": [
    "for x in range(1,6):\n",
    "    print(x)"
   ]
  },
  {
   "cell_type": "code",
   "execution_count": 203,
   "metadata": {},
   "outputs": [
    {
     "data": {
      "text/plain": [
       "8"
      ]
     },
     "execution_count": 203,
     "metadata": {},
     "output_type": "execute_result"
    }
   ],
   "source": [
    "time.gmtime().tm_sec"
   ]
  },
  {
   "cell_type": "code",
   "execution_count": 227,
   "metadata": {},
   "outputs": [
    {
     "name": "stdout",
     "output_type": "stream",
     "text": [
      "a\n"
     ]
    }
   ],
   "source": [
    "time.sleep(4)\n",
    "print(\"a\")"
   ]
  },
  {
   "cell_type": "code",
   "execution_count": 118,
   "metadata": {},
   "outputs": [
    {
     "name": "stderr",
     "output_type": "stream",
     "text": [
      "c:\\Users\\tonim\\AppData\\Local\\Programs\\Python\\Python37\\lib\\site-packages\\ipykernel_launcher.py:1: DeprecationWarning: time.clock has been deprecated in Python 3.3 and will be removed from Python 3.8: use time.perf_counter or time.process_time instead\n",
      "  \"\"\"Entry point for launching an IPython kernel.\n"
     ]
    },
    {
     "data": {
      "text/plain": [
       "481979.629818"
      ]
     },
     "execution_count": 118,
     "metadata": {},
     "output_type": "execute_result"
    }
   ],
   "source": [
    "time.clock()"
   ]
  },
  {
   "cell_type": "code",
   "execution_count": 119,
   "metadata": {},
   "outputs": [
    {
     "data": {
      "text/plain": [
       "3"
      ]
     },
     "execution_count": 119,
     "metadata": {},
     "output_type": "execute_result"
    }
   ],
   "source": [
    "int(3.45)"
   ]
  },
  {
   "cell_type": "code",
   "execution_count": 10,
   "metadata": {},
   "outputs": [],
   "source": [
    "h = [\"a\", \"b\"]"
   ]
  }
 ],
 "metadata": {
  "kernelspec": {
   "display_name": "Python 3.7.4 64-bit",
   "language": "python",
   "name": "python3"
  },
  "language_info": {
   "codemirror_mode": {
    "name": "ipython",
    "version": 3
   },
   "file_extension": ".py",
   "mimetype": "text/x-python",
   "name": "python",
   "nbconvert_exporter": "python",
   "pygments_lexer": "ipython3",
   "version": "3.7.4"
  },
  "orig_nbformat": 4,
  "vscode": {
   "interpreter": {
    "hash": "6d128f9f649f5675aa9c03abef03d58b028ea46b9880149910e4a6a1e3e34976"
   }
  }
 },
 "nbformat": 4,
 "nbformat_minor": 2
}
