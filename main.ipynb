{
 "cells": [
  {
   "cell_type": "code",
   "execution_count": 1,
   "metadata": {},
   "outputs": [],
   "source": [
    "from clases import *\n",
    "import numpy as np\n",
    "import time\n",
    "from IPython.display import clear_output"
   ]
  },
  {
   "cell_type": "code",
   "execution_count": 2,
   "metadata": {},
   "outputs": [
    {
     "ename": "ValueError",
     "evalue": "invalid literal for int() with base 10: ''",
     "output_type": "error",
     "traceback": [
      "\u001b[1;31m---------------------------------------------------------------------------\u001b[0m",
      "\u001b[1;31mValueError\u001b[0m                                Traceback (most recent call last)",
      "\u001b[1;32m~\\AppData\\Local\\Temp\\ipykernel_18520\\2483496957.py\u001b[0m in \u001b[0;36m<module>\u001b[1;34m\u001b[0m\n\u001b[0;32m     77\u001b[0m                 \u001b[0mJugador1\u001b[0m\u001b[1;33m.\u001b[0m\u001b[0mtablero_adver\u001b[0m\u001b[1;33m.\u001b[0m\u001b[0mmostrar\u001b[0m\u001b[1;33m(\u001b[0m\u001b[1;33m)\u001b[0m\u001b[1;33m\u001b[0m\u001b[1;33m\u001b[0m\u001b[0m\n\u001b[0;32m     78\u001b[0m                 \u001b[0mclear_output\u001b[0m\u001b[1;33m(\u001b[0m\u001b[0mwait\u001b[0m\u001b[1;33m=\u001b[0m\u001b[1;32mTrue\u001b[0m\u001b[1;33m)\u001b[0m\u001b[1;33m\u001b[0m\u001b[1;33m\u001b[0m\u001b[0m\n\u001b[1;32m---> 79\u001b[1;33m                 \u001b[0macierto\u001b[0m\u001b[1;33m(\u001b[0m\u001b[0mJugador1\u001b[0m\u001b[1;33m)\u001b[0m\u001b[1;33m\u001b[0m\u001b[1;33m\u001b[0m\u001b[0m\n\u001b[0m\u001b[0;32m     80\u001b[0m         \u001b[1;32melif\u001b[0m \u001b[0mi\u001b[0m \u001b[1;33m==\u001b[0m \u001b[1;36m2\u001b[0m\u001b[1;33m:\u001b[0m\u001b[1;33m\u001b[0m\u001b[1;33m\u001b[0m\u001b[0m\n\u001b[0;32m     81\u001b[0m             \u001b[1;32mif\u001b[0m \u001b[1;33m(\u001b[0m\u001b[0mJugador1\u001b[0m\u001b[1;33m.\u001b[0m\u001b[0mn_barcos\u001b[0m \u001b[1;33m!=\u001b[0m \u001b[1;36m0\u001b[0m\u001b[1;33m)\u001b[0m \u001b[1;32mand\u001b[0m \u001b[1;33m(\u001b[0m\u001b[0mMaquina\u001b[0m\u001b[1;33m.\u001b[0m\u001b[0mn_barcos\u001b[0m \u001b[1;33m!=\u001b[0m \u001b[1;36m0\u001b[0m\u001b[1;33m)\u001b[0m\u001b[1;33m:\u001b[0m\u001b[1;33m\u001b[0m\u001b[1;33m\u001b[0m\u001b[0m\n",
      "\u001b[1;32m~\\AppData\\Local\\Temp\\ipykernel_18520\\2483496957.py\u001b[0m in \u001b[0;36macierto\u001b[1;34m(self)\u001b[0m\n\u001b[0;32m     49\u001b[0m     \u001b[1;32mif\u001b[0m \u001b[1;33m(\u001b[0m\u001b[0mJugador1\u001b[0m\u001b[1;33m.\u001b[0m\u001b[0mn_barcos\u001b[0m \u001b[1;33m!=\u001b[0m \u001b[1;36m0\u001b[0m\u001b[1;33m)\u001b[0m \u001b[1;32mand\u001b[0m \u001b[1;33m(\u001b[0m\u001b[0mMaquina\u001b[0m\u001b[1;33m.\u001b[0m\u001b[0mn_barcos\u001b[0m \u001b[1;33m!=\u001b[0m \u001b[1;36m0\u001b[0m\u001b[1;33m)\u001b[0m\u001b[1;33m:\u001b[0m\u001b[1;33m\u001b[0m\u001b[1;33m\u001b[0m\u001b[0m\n\u001b[0;32m     50\u001b[0m         \u001b[1;32mif\u001b[0m \u001b[0mself\u001b[0m\u001b[1;33m.\u001b[0m\u001b[0mnombre\u001b[0m \u001b[1;33m==\u001b[0m \u001b[0mJugador1\u001b[0m\u001b[1;33m.\u001b[0m\u001b[0mnombre\u001b[0m\u001b[1;33m:\u001b[0m\u001b[1;33m\u001b[0m\u001b[1;33m\u001b[0m\u001b[0m\n\u001b[1;32m---> 51\u001b[1;33m             \u001b[1;32mif\u001b[0m \u001b[0matacar\u001b[0m\u001b[1;33m(\u001b[0m\u001b[0mJugador1\u001b[0m\u001b[1;33m,\u001b[0m\u001b[0mint\u001b[0m\u001b[1;33m(\u001b[0m\u001b[0minput\u001b[0m\u001b[1;33m(\u001b[0m\u001b[1;34m\"Introduce la coordenada Y para atacar\"\u001b[0m\u001b[1;33m)\u001b[0m\u001b[1;33m)\u001b[0m\u001b[1;33m,\u001b[0m\u001b[0mint\u001b[0m\u001b[1;33m(\u001b[0m\u001b[0minput\u001b[0m\u001b[1;33m(\u001b[0m\u001b[1;34m\"Introduce la coordenada X para atacar\"\u001b[0m\u001b[1;33m)\u001b[0m\u001b[1;33m)\u001b[0m\u001b[1;33m)\u001b[0m \u001b[1;33m==\u001b[0m \u001b[1;36m1\u001b[0m\u001b[1;33m:\u001b[0m\u001b[1;33m\u001b[0m\u001b[1;33m\u001b[0m\u001b[0m\n\u001b[0m\u001b[0;32m     52\u001b[0m                 \u001b[0macierto\u001b[0m\u001b[1;33m(\u001b[0m\u001b[1;33m(\u001b[0m\u001b[0mself\u001b[0m\u001b[1;33m)\u001b[0m\u001b[1;33m)\u001b[0m\u001b[1;33m\u001b[0m\u001b[1;33m\u001b[0m\u001b[0m\n\u001b[0;32m     53\u001b[0m         \u001b[1;32mif\u001b[0m \u001b[0mself\u001b[0m\u001b[1;33m.\u001b[0m\u001b[0mnombre\u001b[0m \u001b[1;33m==\u001b[0m \u001b[0mMaquina\u001b[0m\u001b[1;33m.\u001b[0m\u001b[0mnombre\u001b[0m\u001b[1;33m:\u001b[0m\u001b[1;33m\u001b[0m\u001b[1;33m\u001b[0m\u001b[0m\n",
      "\u001b[1;31mValueError\u001b[0m: invalid literal for int() with base 10: ''"
     ]
    }
   ],
   "source": [
    "def atacar(self, y, x):\n",
    "    jug_atac = None\n",
    "    acierto = 0\n",
    "    if self.nombre == Jugador1.nombre:\n",
    "        jug_atac = Maquina\n",
    "    elif self.nombre == Maquina.nombre:\n",
    "        jug_atac = Jugador1\n",
    "    if jug_atac.tablero_prop.valor[y,x] == \"  \":\n",
    "        self.tablero_adver.valor[y,x] = \"\\U0001F4A6\"\n",
    "        if self.nombre == Jugador1.nombre:\n",
    "            print(\"¡Has atacado en [\", y, \",\" ,x, \"]!\")\n",
    "            print(\"¡Agua!\")\n",
    "        elif self.nombre == Maquina.nombre:\n",
    "            print(\"¡Te atacaron en [\", y, \",\" ,x, \"]!\")\n",
    "            print(\"¡Agua!\")\n",
    "    elif jug_atac.tablero_prop.valor[y,x] == \"O \":\n",
    "        jug_atac.tablero_prop.valor[y,x] = \"\\U0001F4A2\"\n",
    "        self.tablero_adver.valor[y,x] = \"\\U0001F4A2\"\n",
    "        acierto = 1\n",
    "        tocado_y_hundido = 0\n",
    "        for bar in jug_atac.barcos:\n",
    "            comparador = 0\n",
    "            for posicion in bar.posicion:\n",
    "                if jug_atac.tablero_prop.valor[tuple(posicion)] == \"\\U0001F4A2\":\n",
    "                        comparador += 1        \n",
    "                if comparador == bar.eslora:\n",
    "                    print(\"¡Tocado y Hundido!\")\n",
    "                    tocado_y_hundido = 1\n",
    "                    for posicion in bar.posicion:\n",
    "                        jug_atac.tablero_prop.valor[tuple(posicion)] = \"\\U0001F4A5\"\n",
    "                        self.tablero_adver.valor[tuple(posicion)] = \"\\U0001F4A5\"\n",
    "                        jug_atac.n_barcos -= 1\n",
    "        if tocado_y_hundido == 0:\n",
    "            if self.nombre == Jugador1.nombre:\n",
    "                        print(\"¡Has atacado en [\", y, \",\" ,x, \"]!\")\n",
    "                        print(\"!Tocado¡\")\n",
    "            elif self.nombre == Maquina.nombre:\n",
    "                        print(\"¡Te atacaron en [\", y, \",\" ,x, \"]!\")\n",
    "                        print(\"!Tocado¡\")\n",
    "    print(\"Tablero de Jugador2\")\n",
    "    Maquina.tablero_prop.mostrar()\n",
    "    print(\"Tu Tablero:\")\n",
    "    Jugador1.tablero_prop.mostrar()\n",
    "    print(\"Tus ataques:\")\n",
    "    Jugador1.tablero_adver.mostrar()\n",
    "    clear_output(wait=True)\n",
    "    return acierto\n",
    "def acierto(self):\n",
    "    if (Jugador1.n_barcos != 0) and (Maquina.n_barcos != 0):\n",
    "        if self.nombre == Jugador1.nombre:\n",
    "            if atacar(Jugador1,int(input(\"Introduce la coordenada Y para atacar\")),int(input(\"Introduce la coordenada X para atacar\"))) == 1:\n",
    "                acierto((self))\n",
    "        if self.nombre == Maquina.nombre:\n",
    "            if atacar(Maquina, np.random.randint(10), np.random.randint(10)) == 1:\n",
    "                acierto((self))\n",
    "Jugador1 = jugador(\"Jugador1\")\n",
    "Jugador1.anadir_barcos()\n",
    "while len(Jugador1.barcos) != 10:\n",
    "    print(\"Introduce unas coordenadas correctas\")\n",
    "    Jugador1.anadir_barcos()\n",
    "Maquina = jugador(\"Jugador2\")\n",
    "while len(Maquina.barcos) != 10:\n",
    "    Maquina.anadir_barcos()\n",
    "time.sleep(0.1)\n",
    "while (Jugador1.n_barcos != 0) and (Maquina.n_barcos != 0):\n",
    "    turnos = (1,2)\n",
    "    for i in turnos:\n",
    "        if i == 1:\n",
    "            if (Jugador1.n_barcos != 0) and (Maquina.n_barcos != 0):\n",
    "                time.sleep(4)\n",
    "                print(\"turno de Jugador1\")\n",
    "                print(\"Tablero de Jugador2\")\n",
    "                Maquina.tablero_prop.mostrar()\n",
    "                print(\"Tu Tablero:\")\n",
    "                Jugador1.tablero_prop.mostrar()\n",
    "                print(\"Tus ataques:\")\n",
    "                Jugador1.tablero_adver.mostrar()\n",
    "                clear_output(wait=True)\n",
    "                acierto(Jugador1)\n",
    "        elif i == 2:\n",
    "            if (Jugador1.n_barcos != 0) and (Maquina.n_barcos != 0):\n",
    "                time.sleep(5)\n",
    "                print(\"turno de Jugador 2\")\n",
    "                time.sleep(2)\n",
    "                acierto(Maquina)\n",
    "time.sleep(0.01)\n",
    "if Jugador1.n_barcos == 0:\n",
    "    print(\"\\U0001F38A\" + \"¡\" + Maquina.nombre + \" ha ganado!\" + \"\\U0001F38A\")\n",
    "    print(\"\\U0001F44E\" + \"¡\" + Jugador1.nombre + \" ha perdido!\" + \"\\U0001F44E\")\n",
    "elif Maquina.n_barcos == 0:\n",
    "    print(\"\\U0001F38A\" + \"¡\" + Jugador1.nombre + \" ha ganado!\" + \"\\U0001F38A\")\n",
    "    print(\"\\U0001F44E\" + \"¡\" + Maquina.nombre + \" ha perdido!\" + \"\\U0001F44E\")\n",
    "print(\"Tableros:\")\n",
    "print(\"Tablero de \" + Jugador1.nombre)\n",
    "Jugador1.tablero_prop.mostrar()\n",
    "print(\"Ataques de \" + Jugador1.nombre)\n",
    "Jugador1.tablero_adver.mostrar()\n",
    "print(\"Tablero de \" + Maquina.nombre)\n",
    "Maquina.tablero_prop.mostrar()\n",
    "print(\"Ataques de \" + Maquina.nombre)\n",
    "Maquina.tablero_adver.mostrar()"
   ]
  },
  {
   "cell_type": "code",
   "execution_count": 1,
   "metadata": {},
   "outputs": [],
   "source": [
    "def funcion():\n",
    "    if x > 10:\n",
    "        print(\"Hola\")\n",
    "\n",
    "\n"
   ]
  }
 ],
 "metadata": {
  "kernelspec": {
   "display_name": "Python 3.7.4 64-bit",
   "language": "python",
   "name": "python3"
  },
  "language_info": {
   "codemirror_mode": {
    "name": "ipython",
    "version": 3
   },
   "file_extension": ".py",
   "mimetype": "text/x-python",
   "name": "python",
   "nbconvert_exporter": "python",
   "pygments_lexer": "ipython3",
   "version": "3.7.4"
  },
  "orig_nbformat": 4,
  "vscode": {
   "interpreter": {
    "hash": "6d128f9f649f5675aa9c03abef03d58b028ea46b9880149910e4a6a1e3e34976"
   }
  }
 },
 "nbformat": 4,
 "nbformat_minor": 2
}
